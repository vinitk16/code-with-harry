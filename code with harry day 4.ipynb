{
 "cells": [
  {
   "cell_type": "code",
   "execution_count": 1,
   "id": "584ca3f2-2366-490c-822a-2acb13a5ea70",
   "metadata": {},
   "outputs": [
    {
     "name": "stdout",
     "output_type": "stream",
     "text": [
      "Hello world\n"
     ]
    }
   ],
   "source": [
    "print(\"Hello world\")"
   ]
  },
  {
   "cell_type": "code",
   "execution_count": 2,
   "id": "2e77fbb6-2fed-40ea-8057-78375cd7ac0b",
   "metadata": {},
   "outputs": [
    {
     "name": "stdout",
     "output_type": "stream",
     "text": [
      "7\n"
     ]
    }
   ],
   "source": [
    "print(7)"
   ]
  },
  {
   "cell_type": "code",
   "execution_count": 10,
   "id": "8ea2898d-b96e-4f86-8467-88da558cedfd",
   "metadata": {},
   "outputs": [
    {
     "name": "stdout",
     "output_type": "stream",
     "text": [
      "poem of my choice --jonny jonny yes papa eating sugar no papa open your mouth yes papa hahaha\n"
     ]
    }
   ],
   "source": [
    " print(\"poem of my choice --jonny jonny yes papa eating sugar no papa open your mouth yes papa hahaha\")"
   ]
  },
  {
   "cell_type": "code",
   "execution_count": 1,
   "id": "3ded6a51-0fb6-4b79-bfc7-a95fd7711666",
   "metadata": {},
   "outputs": [
    {
     "name": "stdout",
     "output_type": "stream",
     "text": [
      "56\n"
     ]
    }
   ],
   "source": [
    "print(7*8)"
   ]
  },
  {
   "cell_type": "code",
   "execution_count": 1,
   "id": "88f558b3-f2a6-498d-b9fc-16c7b8c0f1d0",
   "metadata": {},
   "outputs": [
    {
     "name": "stdout",
     "output_type": "stream",
     "text": [
      "56\n"
     ]
    }
   ],
   "source": [
    "print(7*8)"
   ]
  },
  {
   "cell_type": "code",
   "execution_count": null,
   "id": "6b3d8a06-8a7f-46cd-8fc6-7c410fbe2fed",
   "metadata": {},
   "outputs": [],
   "source": [
    "# below line is comment statement"
   ]
  },
  {
   "cell_type": "code",
   "execution_count": 6,
   "id": "7f21f871-5e9b-45f7-a77c-feb6df44f71b",
   "metadata": {},
   "outputs": [],
   "source": [
    "#i wanty to keep this line"
   ]
  },
  {
   "cell_type": "code",
   "execution_count": 7,
   "id": "01e7df76-cc1b-4041-81d5-cb980ca1400b",
   "metadata": {},
   "outputs": [],
   "source": [
    "# keep this line"
   ]
  },
  {
   "cell_type": "code",
   "execution_count": null,
   "id": "a55e5eef-5c13-437f-8a56-40df6dbe5bbe",
   "metadata": {},
   "outputs": [],
   "source": [
    "## thi is escape sequence character \\ back slace n "
   ]
  },
  {
   "cell_type": "code",
   "execution_count": 10,
   "id": "445877e4-0e95-4861-bf8e-eefca6b9858b",
   "metadata": {},
   "outputs": [
    {
     "name": "stdout",
     "output_type": "stream",
     "text": [
      "i am a good boy\n",
      "and this is also a good man\n"
     ]
    }
   ],
   "source": [
    "print(\"i am a good boy\\nand this is also a good man\")"
   ]
  },
  {
   "cell_type": "code",
   "execution_count": null,
   "id": "7793743a-b1f1-4744-9609-d4e39dc2f252",
   "metadata": {},
   "outputs": [],
   "source": []
  },
  {
   "cell_type": "code",
   "execution_count": null,
   "id": "115c3af4-e012-49ca-9998-1cbb91adbd4e",
   "metadata": {},
   "outputs": [],
   "source": []
  },
  {
   "cell_type": "code",
   "execution_count": null,
   "id": "6b454fbc-07ef-4860-af28-f412b930ff8e",
   "metadata": {},
   "outputs": [],
   "source": []
  }
 ],
 "metadata": {
  "kernelspec": {
   "display_name": "Python 3 (ipykernel)",
   "language": "python",
   "name": "python3"
  },
  "language_info": {
   "codemirror_mode": {
    "name": "ipython",
    "version": 3
   },
   "file_extension": ".py",
   "mimetype": "text/x-python",
   "name": "python",
   "nbconvert_exporter": "python",
   "pygments_lexer": "ipython3",
   "version": "3.10.8"
  }
 },
 "nbformat": 4,
 "nbformat_minor": 5
}
